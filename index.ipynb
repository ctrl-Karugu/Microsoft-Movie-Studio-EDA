{
 "cells": [
  {
   "cell_type": "markdown",
   "metadata": {},
   "source": [
    "![Microsoft-Studios](images\\microsoft-studios-banner.png)\n",
    "\n",
    "# **Microsoft Movie Studio EDA**\n",
    "\n",
    "---\n",
    "\n",
    "### Author: [Femi Kamau](https://github.com/ctrl-Karugu)"
   ]
  },
  {
   "cell_type": "markdown",
   "metadata": {},
   "source": [
    "## Overview\n",
    "(A one-paragraph overview of the project, including the business problem, data, methods, results and recommendations.)"
   ]
  },
  {
   "cell_type": "markdown",
   "metadata": {},
   "source": [
    "## Business Problem\n",
    "* Microsoft has decided to enter the original video content scene by creating a new movie studio. However, they don't know anything about creating movies. In order to solve this problem, the analysis shall be centered around answering the following question:\n",
    "\n",
    "   > ##### What types of films are currently performing the best at the box office?\n",
    "\n",
    "* According to this [Holywood Reporter](https://www.hollywoodreporter.com/movies/movie-news/what-is-profitable-movie-ever-1269879/) article, we see that the metric used to determine performance of a movie at the box office may vary. Therefore, it is important to clarify that within this analysis, **the metric that shall be used to determine the success of a movie will be the return on investment (ROI)**. ROI is an important performance measure used by businesses to evaluate the profitability of an investment or compare the efficiency of a number of different investments.\n",
    "\n",
    "* In order to further understand the types of movies that are currently performing the best at the box office, this analysis will look into the impact following features have on the ROI:\n",
    "\n",
    "  * Genre\n",
    "   \n",
    "  * Runtime (Length)\n",
    "\n",
    "  * Director(s) & Writer(s)\n",
    "\n",
    "  * Cast\n",
    "\n",
    "  * Gross Revenue\n",
    "\n",
    "  * Rating\n",
    "\n",
    "  * Production Cost"
   ]
  }
 ],
 "metadata": {
  "kernelspec": {
   "display_name": "Python 3.8.5 ('learn-env')",
   "language": "python",
   "name": "python3"
  },
  "language_info": {
   "name": "python",
   "version": "3.8.5"
  },
  "orig_nbformat": 4,
  "vscode": {
   "interpreter": {
    "hash": "0e1685587a2b5a477a05a0ce0937319f08a9f06ffb0b64ae3d93eaa6fc0ee912"
   }
  }
 },
 "nbformat": 4,
 "nbformat_minor": 2
}
