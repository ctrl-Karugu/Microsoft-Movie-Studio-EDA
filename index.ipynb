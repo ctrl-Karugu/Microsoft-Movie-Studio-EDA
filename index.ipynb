{
 "cells": [
  {
   "cell_type": "markdown",
   "metadata": {},
   "source": [
    "# **Microsoft Movie Studio EDA**\n",
    "\n",
    "---\n",
    "\n",
    "### Author: Femi Kamau"
   ]
  },
  {
   "cell_type": "markdown",
   "metadata": {},
   "source": []
  }
 ],
 "metadata": {
  "kernelspec": {
   "display_name": "Python 3.8.5 ('learn-env')",
   "language": "python",
   "name": "python3"
  },
  "language_info": {
   "name": "python",
   "version": "3.8.5"
  },
  "orig_nbformat": 4,
  "vscode": {
   "interpreter": {
    "hash": "0e1685587a2b5a477a05a0ce0937319f08a9f06ffb0b64ae3d93eaa6fc0ee912"
   }
  }
 },
 "nbformat": 4,
 "nbformat_minor": 2
}
